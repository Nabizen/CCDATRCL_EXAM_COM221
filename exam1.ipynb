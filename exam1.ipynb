{
  "cells": [
    {
      "cell_type": "markdown",
      "metadata": {
        "colab_type": "text",
        "id": "view-in-github"
      },
      "source": [
        "<a href=\"https://colab.research.google.com/github/robitussin/CCDATRCL_EXAM/blob/main/exam1.ipynb\" target=\"_parent\"><img src=\"https://colab.research.google.com/assets/colab-badge.svg\" alt=\"Open In Colab\"/></a>"
      ]
    },
    {
      "cell_type": "markdown",
      "metadata": {
        "id": "yaz2B0KGFehP"
      },
      "source": [
        "# Midterm Exam 💛💙"
      ]
    },
    {
      "cell_type": "markdown",
      "metadata": {
        "id": "_DmK1ONEFehQ"
      },
      "source": [
        "**Instructions** ❗️❗️\n",
        "\n",
        "❌ Do not remove or modify the notebook **sections**, **subsections**, **exam questions** or **any text** in this python notebook\n",
        "\n",
        "✔️ Put your answer in the designated cells below each question"
      ]
    },
    {
      "cell_type": "markdown",
      "metadata": {
        "id": "TMCAXKWCFehR"
      },
      "source": [
        "## Search"
      ]
    },
    {
      "cell_type": "code",
      "execution_count": 3842,
      "metadata": {
        "id": "Fy8nEBRRFehR"
      },
      "outputs": [],
      "source": [
        "def linearSearch(my_list, number):\n",
        "\n",
        "    index = 0\n",
        "\n",
        "    for i in my_list:\n",
        "\n",
        "        if my_list[index] == number:\n",
        "            return index\n",
        "\n",
        "        index = index + 1\n",
        "\n",
        "    return -1"
      ]
    },
    {
      "cell_type": "markdown",
      "metadata": {
        "id": "AjAevpueFehS"
      },
      "source": [
        "1. Using **linear search**, write a `findLargestIncrease()` function to find the largest increase in value between two adjacent numbers in your student number `(10 points)`\n",
        "\n",
        "    **Example:**\n",
        "\n",
        "    student_number = [2,0,2,2,6,2,5,1,9,3]\n",
        "\n",
        "    **Expected Output:**\n",
        "\n",
        "    findLargestIncrease(student_number)\n",
        "\n",
        "    Output: Between 1 and 9\n",
        "\n",
        "    **Explanation:**\n",
        "\n",
        "    From this student_number, the largest increase happened from number 1 to number 9"
      ]
    },
    {
      "cell_type": "code",
      "execution_count": 3843,
      "metadata": {
        "id": "JE8nEfyJFehS"
      },
      "outputs": [
        {
          "name": "stdout",
          "output_type": "stream",
          "text": [
            "[2, 0, 2, 2, 1, 0, 7, 6, 3, 2]\n",
            "Between 0 and 7\n"
          ]
        }
      ],
      "source": [
        "# put your answer here\n",
        "def findLargestIncrease(array):\n",
        "    index = 0\n",
        "    result = 0\n",
        "\n",
        "    while (index < len(array) - 1):\n",
        "        first = array[index]\n",
        "        second = array[index + 1]\n",
        "\n",
        "        if result < second - first: \n",
        "            result = second - first\n",
        "            index_first = linearSearch(array, first)\n",
        "            index_second = linearSearch(array, second)\n",
        "\n",
        "        index += 1\n",
        "        \n",
        "    print(array)\n",
        "    print(\"Between\", array[index_first], \"and\", array[index_second])\n",
        "\n",
        "student_number = [2,0,2,2,1,0,7,6,3,2]\n",
        "\n",
        "findLargestIncrease(student_number)"
      ]
    },
    {
      "cell_type": "markdown",
      "metadata": {
        "id": "nMyr1fNyFehS"
      },
      "source": [
        "2. Using **linear search**, write a `findLargestDecrease()` function to find the largest decrease in value between two adjacent numbers in your student number `(10 points)`\n",
        "\n",
        "    **Example:**\n",
        "\n",
        "    student_number = [2,0,2,2,6,2,5,1,9,3]\n",
        "\n",
        "    **Expected Output:**\n",
        "\n",
        "    findLargestDecrease(student_number)\n",
        "\n",
        "    Output: Between 9 and 3\n",
        "\n",
        "    **Explanation:**\n",
        "\n",
        "    From this student_number, the largest decrease happened from number 9 to number 3"
      ]
    },
    {
      "cell_type": "code",
      "execution_count": 3844,
      "metadata": {
        "id": "bfMfQVbVFehS"
      },
      "outputs": [
        {
          "name": "stdout",
          "output_type": "stream",
          "text": [
            "[2, 0, 2, 2, 1, 0, 7, 6, 3, 2]\n",
            "Between 6 and 3\n"
          ]
        }
      ],
      "source": [
        "# put your answer here\n",
        "def findLargestDecrease(array):\n",
        "    index = 0\n",
        "    result = 0\n",
        "\n",
        "    while (index < len(array) - 1):\n",
        "        first = array[index]\n",
        "        second = array[index + 1]\n",
        "\n",
        "        if result < first - second: \n",
        "            result = first - second\n",
        "            index_first = linearSearch(array, first)\n",
        "            index_second = linearSearch(array, second)\n",
        "\n",
        "        index += 1\n",
        "        \n",
        "    print(array)\n",
        "    print(\"Between\", array[index_first], \"and\", array[index_second])\n",
        "\n",
        "student_number = [2,0,2,2,1,0,7,6,3,2]\n",
        "\n",
        "findLargestDecrease(student_number)"
      ]
    },
    {
      "cell_type": "markdown",
      "metadata": {
        "id": "NtKSQn9QFehS"
      },
      "source": [
        "## Linked List"
      ]
    },
    {
      "cell_type": "code",
      "execution_count": 3845,
      "metadata": {
        "id": "0HP5zyJcFehS"
      },
      "outputs": [],
      "source": [
        "class Node:\n",
        "\n",
        "    def __init__(self, data):\n",
        "        self.data = data\n",
        "        self.next = None  # null"
      ]
    },
    {
      "cell_type": "code",
      "execution_count": 3846,
      "metadata": {
        "id": "A-8Uefe7FehS"
      },
      "outputs": [],
      "source": [
        "class LinkedList:\n",
        "\n",
        "    def __init__(self):\n",
        "        self.head = None\n",
        "\n",
        "    def traverse(self, node):\n",
        "        while node:\n",
        "            print(node.data, end=\" -> \")\n",
        "            node = node.next"
      ]
    },
    {
      "cell_type": "markdown",
      "metadata": {
        "id": "uPgIJJuSFehT"
      },
      "source": [
        "**Instructions** ❗️❗️\n",
        "\n",
        "Use the pre-defined linked list class/functions to create a linked list"
      ]
    },
    {
      "cell_type": "markdown",
      "metadata": {
        "id": "WIwpW7Q2FehT"
      },
      "source": [
        "1. Create a Singly linked list named **num_list** and print all of its elements. `(5 points)`\n",
        "\n",
        "- **num_list** should contain all digits of your student number.\n",
        "\n",
        "    **Expected Output:**\n",
        "\n",
        "    print(num_list)\n",
        "\n",
        "    [2, 0, 2, 2, 1, 2, 3, 4, 5, 6]"
      ]
    },
    {
      "cell_type": "code",
      "execution_count": 3847,
      "metadata": {
        "id": "Lihv0JPiFehT"
      },
      "outputs": [
        {
          "name": "stdout",
          "output_type": "stream",
          "text": [
            "2 -> 0 -> 2 -> 2 -> 1 -> 0 -> 7 -> 6 -> 3 -> 2 -> "
          ]
        }
      ],
      "source": [
        "# put your answer here\n",
        "def disconnectNodes():\n",
        "    for x in range(len(store) - 1):\n",
        "        store[x].next = None\n",
        "\n",
        "def connectNodes():\n",
        "    for x in range(len(store) - 1):\n",
        "        store[x].next = store[x + 1]\n",
        "\n",
        "num_list = LinkedList()\n",
        "\n",
        "num_list.head = Node(2)\n",
        "node_b = Node(0)\n",
        "node_c = Node(2)\n",
        "node_d = Node(2)\n",
        "node_e = Node(1)\n",
        "node_f = Node(0)\n",
        "node_g = Node(7)\n",
        "node_h = Node(6)\n",
        "node_i = Node(3)\n",
        "node_j = Node(2)\n",
        "\n",
        "store = [num_list.head, node_b, node_c, node_d, node_e, node_f, node_g, node_h, node_i, node_j]\n",
        "\n",
        "connectNodes()\n",
        "\n",
        "num_list.traverse(store[0])"
      ]
    },
    {
      "cell_type": "markdown",
      "metadata": {
        "id": "dqA2UYrYFehT"
      },
      "source": [
        "2. Write a `hasPrime()` function to test whether a prime number is in the last six digits of **num_list**. `(5 points)`\n",
        "\n",
        "- If a prime number is in the last six digits of **num_list**, the method should return **true**\n",
        "\n",
        "- If a prime number is not in the last six digits of **num_list**, the method should return **false**\n",
        "\n",
        "    **Expected Output:**\n",
        "\n",
        "    hasPrime(num_list)\n",
        "\n",
        "    True"
      ]
    },
    {
      "cell_type": "code",
      "execution_count": 3848,
      "metadata": {
        "id": "GYwsQNz5FehT"
      },
      "outputs": [
        {
          "name": "stdout",
          "output_type": "stream",
          "text": [
            "2 -> 0 -> 2 -> 2 -> 1 -> 0 -> 7 -> 6 -> 3 -> 2 -> "
          ]
        },
        {
          "data": {
            "text/plain": [
              "True"
            ]
          },
          "execution_count": 3848,
          "metadata": {},
          "output_type": "execute_result"
        }
      ],
      "source": [
        "# put your answer here\n",
        "def hasPrime(list):\n",
        "    skip_size = len(store) - 6\n",
        "\n",
        "    list.traverse(store[0])\n",
        "\n",
        "    for x in range(len(store) - 1):\n",
        "        if (x < skip_size):\n",
        "            continue\n",
        "        \n",
        "        if (store[x].data == 2 or store[x].data == 3 or store[x].data == 5 or store[x].data == 7 or store[x].data == 9):\n",
        "            return True\n",
        "        elif (x == len(store) - 2):\n",
        "            return False\n",
        "\n",
        "hasPrime(num_list)"
      ]
    },
    {
      "cell_type": "markdown",
      "metadata": {
        "id": "5Qb0BOiwFehT"
      },
      "source": [
        "3. Write a `removeZeroes()` function to remove all occurrences of zeroes in **num_list**. `(5 points)`\n",
        "\n",
        "- If a zero is in **num_list**, return **num_list**\n",
        "\n",
        "- If there are no zeroes in **num_list**, return **\"no zeros found\"**\n",
        "\n",
        "    **Expected Output:**\n",
        "\n",
        "    removeZeroes(num_list)\n",
        "\n",
        "    [2, 2, 1, 2, 3, 4, 5, 6]"
      ]
    },
    {
      "cell_type": "code",
      "execution_count": 3849,
      "metadata": {
        "id": "k1vAHUYuFehT"
      },
      "outputs": [
        {
          "name": "stdout",
          "output_type": "stream",
          "text": [
            "2 -> 0 -> 2 -> 2 -> 1 -> 0 -> 7 -> 6 -> 3 -> 2 -> "
          ]
        }
      ],
      "source": [
        "# put your answer here\n",
        "#Wasnt able to figure out how to remove element \"0\" from a node list\n",
        "def removeZeroes(list):\n",
        "    check = False\n",
        "\n",
        "    disconnectNodes()\n",
        "\n",
        "    for x in range(len(store) - 1):\n",
        "        #if(store[x].data == 0):\n",
        "        #    check = True\n",
        "        #    continue\n",
        "        \n",
        "        store[x].next = store[x + 1]\n",
        "        \n",
        "    list.traverse(store[0])\n",
        "            \n",
        "    #if (check == False):\n",
        "    #    print(\"No Zeroes Found\")\n",
        "\n",
        "\n",
        "removeZeroes(num_list)"
      ]
    },
    {
      "cell_type": "markdown",
      "metadata": {
        "id": "SKAlpglNFehT"
      },
      "source": [
        "4. Insert a dash symbol between the 4th and 5th digit in **num_list**. `(5 points)`\n",
        "\n",
        "    **Expected Output:**\n",
        "\n",
        "    print(num_list)\n",
        "\n",
        "    [2, 0, 2, 2, \"-\", 1, 2, 3, 4, 5, 6]"
      ]
    },
    {
      "cell_type": "code",
      "execution_count": 3850,
      "metadata": {
        "id": "vF7fimZ-FehT"
      },
      "outputs": [],
      "source": [
        "# put your answer here\n",
        "#No answer"
      ]
    },
    {
      "cell_type": "markdown",
      "metadata": {
        "id": "KkC-LgdxFehT"
      },
      "source": [
        "## Stack"
      ]
    },
    {
      "cell_type": "code",
      "execution_count": 3851,
      "metadata": {
        "id": "UYTqB1u_FehU"
      },
      "outputs": [],
      "source": [
        "# Creating a stack\n",
        "def create_stack():\n",
        "    stack = []\n",
        "    return stack\n",
        "\n",
        "\n",
        "def print_stack(stack):\n",
        "\n",
        "    if (check_empty(stack)):\n",
        "        return \"stack is empty\"\n",
        "\n",
        "    # Create a copy of the stack and reverse the elements\n",
        "    tempStack = stack.copy()\n",
        "    tempStack.reverse()\n",
        "\n",
        "    # Print all elements using a loop\n",
        "    for i in tempStack:\n",
        "        print(i)\n",
        "\n",
        "    # Delete the copy to free up memory\n",
        "    del tempStack\n",
        "\n",
        "# Creating an empty stack\n",
        "\n",
        "\n",
        "def check_empty(stack):\n",
        "    return len(stack) == 0\n",
        "\n",
        "\n",
        "# Adding items into the stack\n",
        "def push(stack, item):\n",
        "    stack.append(item)\n",
        "    print(\"pushed item: \" + item)\n",
        "\n",
        "\n",
        "# Removing an element from the stack\n",
        "def pop(stack):\n",
        "    if (check_empty(stack)):\n",
        "        return \"stack is empty\"\n",
        "\n",
        "    return stack.pop()\n",
        "\n",
        "\n",
        "def peek(stack):\n",
        "\n",
        "    # Use negative indexing to display the last element of the list\n",
        "    print(stack[-1])"
      ]
    },
    {
      "cell_type": "markdown",
      "metadata": {
        "id": "wLAQchs8FehU"
      },
      "source": [
        "**Instructions** ❗️❗️\n",
        "\n",
        "Use the pre-defined stack class/functions to create a stack"
      ]
    },
    {
      "cell_type": "markdown",
      "metadata": {
        "id": "37cg9BoCFehU"
      },
      "source": [
        "1. Create two (2) stacks named **name_stack** and **num_stack** `(5 points)`\n",
        "\n",
        "- **name_stack** should contain all letters of your first name.\n",
        "- **num_stack** should contain all digits of your student number.\n",
        "\n",
        "    **Expected Output:**\n",
        "\n",
        "    print(name_stack)\n",
        "\n",
        "    ['E', 'L', 'I', 'Z', 'E', 'R']\n",
        "\n",
        "    print(num_stack)\n",
        "\n",
        "    [2,0,2,2,1,2,3,4,5,6]"
      ]
    },
    {
      "cell_type": "code",
      "execution_count": 3852,
      "metadata": {
        "id": "HlUIUQzQFehU"
      },
      "outputs": [
        {
          "name": "stdout",
          "output_type": "stream",
          "text": [
            "pushed item: N\n",
            "pushed item: E\n",
            "pushed item: I\n",
            "pushed item: L\n",
            "pushed item: 2\n",
            "pushed item: 0\n",
            "pushed item: 2\n",
            "pushed item: 2\n",
            "pushed item: 1\n",
            "pushed item: 0\n",
            "pushed item: 7\n",
            "pushed item: 6\n",
            "pushed item: 3\n",
            "pushed item: 2\n",
            "\n",
            "Stack Order:\n",
            "['N', 'E', 'I', 'L']\n",
            "\n",
            "Stack Order:\n",
            "['2', '0', '2', '2', '1', '0', '7', '6', '3', '2']\n"
          ]
        }
      ],
      "source": [
        "# put your answer here\n",
        "name_stack = create_stack()\n",
        "\n",
        "push(name_stack, \"N\")\n",
        "push(name_stack, \"E\")\n",
        "push(name_stack, \"I\")\n",
        "push(name_stack, \"L\")\n",
        "\n",
        "num_stack = create_stack()\n",
        "\n",
        "push(num_stack, \"2\")\n",
        "push(num_stack, \"0\")\n",
        "push(num_stack, \"2\")\n",
        "push(num_stack, \"2\")\n",
        "push(num_stack, \"1\")\n",
        "push(num_stack, \"0\")\n",
        "push(num_stack, \"7\")\n",
        "push(num_stack, \"6\")\n",
        "push(num_stack, \"3\")\n",
        "push(num_stack, \"2\")\n",
        "\n",
        "\n",
        "\n",
        "print(\"\")\n",
        "print(\"Stack Order:\")\n",
        "print(name_stack)\n",
        "\n",
        "print(\"\")\n",
        "print(\"Stack Order:\")\n",
        "print(num_stack)"
      ]
    },
    {
      "cell_type": "markdown",
      "metadata": {
        "id": "8cySe9LXFehU"
      },
      "source": [
        "2. Create a stack named **my_stack** that follows the following format: `(5 points)`\n",
        "\n",
        "- The first element should be the **5th digit in your student number**\n",
        "- The succeeding elements should be the letters of your **first name**\n",
        "- The last element should be the **last digit of your student number**\n",
        "\n",
        "    **Expected Output:**\n",
        "\n",
        "    my_stack = [1, E, L, I, Z, E, R, 6]"
      ]
    },
    {
      "cell_type": "code",
      "execution_count": 3853,
      "metadata": {
        "id": "bEnCoAhjFehU"
      },
      "outputs": [
        {
          "name": "stdout",
          "output_type": "stream",
          "text": [
            "pushed item: L\n",
            "pushed item: I\n",
            "pushed item: E\n",
            "pushed item: N\n",
            "pushed item: 2\n",
            "pushed item: 3\n",
            "pushed item: 6\n",
            "pushed item: 7\n",
            "pushed item: 0\n",
            "pushed item: 1\n",
            "pushed item: N\n",
            "pushed item: N\n",
            "pushed item: E\n",
            "pushed item: E\n",
            "pushed item: I\n",
            "pushed item: I\n",
            "pushed item: L\n",
            "pushed item: L\n",
            "pushed item: 0\n",
            "pushed item: 7\n",
            "pushed item: 6\n",
            "pushed item: 3\n",
            "pushed item: 2\n",
            "pushed item: 2\n",
            "\n",
            "Stack Order:\n",
            "['1', 'N', 'E', 'I', 'L', '2']\n"
          ]
        }
      ],
      "source": [
        "# put your answer here\n",
        "my_stack = create_stack()\n",
        "temporary_num_stack = create_stack()\n",
        "temporary_name_stack = create_stack()\n",
        "\n",
        "#name element\n",
        "push(temporary_name_stack, pop(name_stack))\n",
        "push(temporary_name_stack, pop(name_stack))\n",
        "push(temporary_name_stack, pop(name_stack))\n",
        "push(temporary_name_stack, pop(name_stack))\n",
        "\n",
        "#first element\n",
        "index = 0\n",
        "\n",
        "while (index < len(num_stack) and len(num_stack) != 5):\n",
        "    push(temporary_num_stack, pop(num_stack))\n",
        "    index += 1\n",
        "\n",
        "fifth_num_element = num_stack[-1]\n",
        "\n",
        "#push to my_stack\n",
        "push(my_stack, fifth_num_element)\n",
        "push(my_stack, temporary_name_stack[-1])\n",
        "push(name_stack, pop(temporary_name_stack))\n",
        "push(my_stack, temporary_name_stack[-1])\n",
        "push(name_stack, pop(temporary_name_stack))\n",
        "push(my_stack, temporary_name_stack[-1])\n",
        "push(name_stack, pop(temporary_name_stack))\n",
        "push(my_stack, temporary_name_stack[-1])\n",
        "push(name_stack, pop(temporary_name_stack))\n",
        "\n",
        "#last element\n",
        "index = 0\n",
        "\n",
        "size = len(temporary_num_stack)\n",
        "\n",
        "while (index < size):\n",
        "    push(num_stack, pop(temporary_num_stack))\n",
        "    index += 1\n",
        "\n",
        "last_num_element = num_stack[-1]\n",
        "\n",
        "#push last element to my_stack\n",
        "push(my_stack, last_num_element)\n",
        "\n",
        "print(\"\")\n",
        "print(\"Stack Order:\")\n",
        "print(my_stack)\n"
      ]
    },
    {
      "cell_type": "markdown",
      "metadata": {
        "id": "8a8_KP5nFehU"
      },
      "source": [
        "3. Write a `verifyStack()` function that will take in `my_stack` and check if its format has been followed `(10 points)`\n",
        "\n",
        "- Return **True** if the format has been followed\n",
        "- Return **False** if the format was not followed\n",
        "- Verify the format by checking the contents of **my_stack** with **name_stack** and **num_stack**\n",
        "\n",
        "    **Expected Output:**\n",
        "\n",
        "    my_stack = [1, E, L, I, Z, E, R, 6]\n",
        "\n",
        "    verifyStack(my_stack)\n",
        "\n",
        "    True\n",
        "\n",
        "    my_stack = [1, S, L, I, Z, E, R, 7]\n",
        "\n",
        "    verifyStack(my_stack)\n",
        "\n",
        "    False"
      ]
    },
    {
      "cell_type": "code",
      "execution_count": 3854,
      "metadata": {
        "id": "RdANSxD0FehU"
      },
      "outputs": [
        {
          "name": "stdout",
          "output_type": "stream",
          "text": [
            "Stack Order:\n",
            "['1', 'N', 'E', 'I', 'L', '2']\n"
          ]
        },
        {
          "data": {
            "text/plain": [
              "True"
            ]
          },
          "execution_count": 3854,
          "metadata": {},
          "output_type": "execute_result"
        }
      ],
      "source": [
        "# put your answer here\n",
        "def verifyStack(my_stack):\n",
        "    first_check = False\n",
        "    name_check = 0\n",
        "    last_check = False\n",
        "\n",
        "    if (my_stack[0] == num_stack[4]):\n",
        "        first_check = True\n",
        "\n",
        "    for i in range(len(my_stack) - 1):\n",
        "        if(i == len(my_stack) - 2):\n",
        "            break\n",
        "\n",
        "        if(name_stack[i] == my_stack[i + 1]):\n",
        "            name_check += 1\n",
        "        else:\n",
        "            name_check -= 1\n",
        "\n",
        "    if (my_stack[-1] == num_stack[-1]):\n",
        "        last_check = True\n",
        "\n",
        "    if (first_check == True and last_check == True and name_check == len(name_stack)):\n",
        "        print(\"Stack Order:\")\n",
        "        print(my_stack)\n",
        "        return True\n",
        "    else:\n",
        "        print(\"Stack Order:\")\n",
        "        print(my_stack)\n",
        "        return False\n",
        "    \n",
        "verifyStack(my_stack)"
      ]
    },
    {
      "cell_type": "markdown",
      "metadata": {
        "id": "UC5C64B2FehU"
      },
      "source": [
        "## Queue"
      ]
    },
    {
      "cell_type": "code",
      "execution_count": 3855,
      "metadata": {
        "id": "NJJ0j0LHFehU"
      },
      "outputs": [],
      "source": [
        "class Queue:\n",
        "    def __init__(self):\n",
        "        self.queue = []\n",
        "\n",
        "    # Add an element\n",
        "    def enqueue(self, item):\n",
        "        self.queue.append(item)\n",
        "\n",
        "    # Remove an element\n",
        "    def dequeue(self):\n",
        "        if len(self.queue) < 1:\n",
        "            return None\n",
        "        return self.queue.pop(0)\n",
        "\n",
        "    # Display  the queue\n",
        "    def display(self):\n",
        "        print(self.queue)\n",
        "\n",
        "    def size(self):\n",
        "        return len(self.queue)\n",
        "\n",
        "    def peek(self):\n",
        "        return self.queue[0]"
      ]
    },
    {
      "cell_type": "markdown",
      "metadata": {
        "id": "80OekpbeFehV"
      },
      "source": [
        "**Instructions** ❗️❗️\n",
        "\n",
        "Use the pre-defined queue class/functions to create a Queue"
      ]
    },
    {
      "cell_type": "markdown",
      "metadata": {
        "id": "_Hf0OP5cFehV"
      },
      "source": [
        "1. Create a simple queue named **num_queue** `(5 points)`\n",
        "\n",
        "- **num_queue** should contain all digits of your student number.\n",
        "\n",
        "    **Expected Output:**\n",
        "\n",
        "    print(num_queue)\n",
        "\n",
        "    [2,0,2,2,1,2,3,4,5,6]"
      ]
    },
    {
      "cell_type": "code",
      "execution_count": 3856,
      "metadata": {
        "id": "_mgmE4ArFehV"
      },
      "outputs": [
        {
          "name": "stdout",
          "output_type": "stream",
          "text": [
            "[2, 0, 2, 2, 1, 0, 7, 6, 3, 2]\n"
          ]
        }
      ],
      "source": [
        "# put your answer here\n",
        "def queue_create():\n",
        "    queue = [2,0,2,2,1,0,7,6,3,2]\n",
        "\n",
        "    index = 0\n",
        "\n",
        "    while (index < len(queue)):\n",
        "        num_queue.enqueue(queue[index])\n",
        "        index += 1\n",
        "\n",
        "def queue_reset():\n",
        "    while (num_queue.size() != 0):\n",
        "        num_queue.dequeue()\n",
        "\n",
        "\n",
        "num_queue = Queue()\n",
        "\n",
        "queue_create()\n",
        "\n",
        "num_queue.display()"
      ]
    },
    {
      "cell_type": "markdown",
      "metadata": {
        "id": "1pHG8t6DFehV"
      },
      "source": [
        "2. Write a `getMax()` or `getMin()` function for **num_queue** `(5 points)`\n",
        "\n",
        "- If your student number ends with an odd number, create a `getMax()` function that will return the largest number in **num_queue**\n",
        "- If your student number ends with an even number, create a `getMin()` function that will return the lowest number in **num_queue**\n",
        "\n",
        "    **Expected Output for getMax():**\n",
        "\n",
        "    getMax(num_queue)\n",
        "\n",
        "    6\n",
        "\n",
        "    **Expected Output for getMin():**\n",
        "\n",
        "    getMin(num_queue)\n",
        "\n",
        "    0"
      ]
    },
    {
      "cell_type": "code",
      "execution_count": 3857,
      "metadata": {
        "id": "itj2U610FehV"
      },
      "outputs": [
        {
          "name": "stdout",
          "output_type": "stream",
          "text": [
            "The max number of the queue is  7\n",
            "7\n",
            "The min number of the queue is  0\n",
            "0\n"
          ]
        }
      ],
      "source": [
        "# put your answer here\n",
        "def getMax(num_queue):\n",
        "    max = num_queue.peek()\n",
        "\n",
        "    for i in range(num_queue.size()):\n",
        "        num_queue.enqueue(num_queue.dequeue())\n",
        "        if (num_queue.peek() > max):\n",
        "            max = num_queue.peek()\n",
        "\n",
        "    print(\"The max number of the queue is \", max)\n",
        "        \n",
        "    return max\n",
        "\n",
        "\n",
        "def getMin(num_queue):\n",
        "    min = num_queue.peek()\n",
        "\n",
        "    for i in range(num_queue.size()):\n",
        "        num_queue.enqueue(num_queue.dequeue())\n",
        "        if (num_queue.peek() < min):\n",
        "            min = num_queue.peek()\n",
        "\n",
        "    print(\"The min number of the queue is \", min)\n",
        "\n",
        "    return min\n",
        "\n",
        "print(getMax(num_queue))\n",
        "print(getMin(num_queue))\n"
      ]
    },
    {
      "cell_type": "markdown",
      "metadata": {
        "id": "YkgmP6GwFehV"
      },
      "source": [
        "3. Write a `getOdd()` or `getEven()` function for  **num_queue** `(5 points)`\n",
        "\n",
        "- If your student number ends with an **odd number**, create a `getOdd()` function that will return all odd numbers in **num_queue**\n",
        "- If your student number ends with an **even number**, create a `getEven()` function that will return all even numbers in **num_queue**\n",
        "\n",
        "    **Expected Output for getOdd():**\n",
        "\n",
        "    getOdd(num_queue)\n",
        "\n",
        "    [1, 3, 5]\n",
        "\n",
        "    **Expected Output for getEven():**\n",
        "\n",
        "    getEven(num_queue)\n",
        "\n",
        "    [0, 2, 4, 6]"
      ]
    },
    {
      "cell_type": "code",
      "execution_count": 3858,
      "metadata": {
        "id": "2Bc7E1zNFehV"
      },
      "outputs": [
        {
          "name": "stdout",
          "output_type": "stream",
          "text": [
            "Odd:\n",
            "[1, 7, 3]\n",
            "Even:\n",
            "[2, 0, 6]\n"
          ]
        }
      ],
      "source": [
        "# put your answer here\n",
        "def getOdd(num_queue):\n",
        "    queue_reset()\n",
        "    queue_create()\n",
        "\n",
        "    result = []\n",
        "    for i in range(num_queue.size()):\n",
        "        if (num_queue.peek() % 2 == 0):\n",
        "            num_queue.dequeue()\n",
        "        elif num_queue.peek() not in result: \n",
        "            result.append(num_queue.peek())\n",
        "            num_queue.dequeue()\n",
        "        else:\n",
        "            num_queue.dequeue()\n",
        "    \n",
        "        index = 0\n",
        "\n",
        "    while (index < len(result)):\n",
        "        num_queue.enqueue(result[index])\n",
        "        index += 1\n",
        "\n",
        "    print(\"Odd:\")\n",
        "    num_queue.display()\n",
        "\n",
        "def getEven(num_queue):\n",
        "    queue_reset()\n",
        "    queue_create()\n",
        "\n",
        "    result = []\n",
        "    for i in range(num_queue.size()):\n",
        "        if (num_queue.peek() % 2 == 1):\n",
        "            num_queue.dequeue()\n",
        "        elif num_queue.peek() not in result: \n",
        "            result.append(num_queue.peek())\n",
        "            num_queue.dequeue()\n",
        "        else:\n",
        "            num_queue.dequeue()\n",
        "    \n",
        "    index = 0\n",
        "\n",
        "    while (index < len(result)):\n",
        "        num_queue.enqueue(result[index])\n",
        "        index += 1\n",
        "\n",
        "    print(\"Even:\")\n",
        "    num_queue.display()\n",
        "\n",
        "\n",
        "getOdd(num_queue)\n",
        "getEven(num_queue)"
      ]
    },
    {
      "cell_type": "markdown",
      "metadata": {
        "id": "kuzWF5g4FehV"
      },
      "source": [
        "4. Write a `removeDup()` function that will remove all duplicates in **num_queue** `(5 points)`\n",
        "\n",
        "    **Expected Output:**\n",
        "\n",
        "    removeDup(num_queue)\n",
        "\n",
        "    [2,0,1,3,4,5,6]"
      ]
    },
    {
      "cell_type": "code",
      "execution_count": 3859,
      "metadata": {
        "id": "I8LeQP8MFehY"
      },
      "outputs": [
        {
          "name": "stdout",
          "output_type": "stream",
          "text": [
            "Before:\n",
            "[2, 0, 2, 2, 1, 0, 7, 6, 3, 2]\n",
            "\n",
            "After:\n",
            "[2, 0, 1, 7, 6, 3]\n"
          ]
        }
      ],
      "source": [
        "# put your answer here\n",
        "def removeDup(num_queue):\n",
        "    queue_reset()\n",
        "    queue_create()\n",
        "    print(\"Before:\")\n",
        "    num_queue.display()\n",
        "\n",
        "    result = []\n",
        "    for i in range(num_queue.size()): \n",
        "        if num_queue.peek() not in result: \n",
        "            result.append(num_queue.peek())\n",
        "            num_queue.dequeue()\n",
        "        else:\n",
        "            num_queue.dequeue()\n",
        "\n",
        "    #putting result array back in the queue\n",
        "    index = 0\n",
        "\n",
        "    while (index < len(result)):\n",
        "        num_queue.enqueue(result[index])\n",
        "        index += 1\n",
        "\n",
        "    print(\"\")\n",
        "    print(\"After:\")\n",
        "    num_queue.display()\n",
        "    \n",
        "\n",
        "removeDup(num_queue)"
      ]
    },
    {
      "cell_type": "markdown",
      "metadata": {
        "id": "LVfZTh8YFehZ"
      },
      "source": [
        "## Sort"
      ]
    },
    {
      "cell_type": "markdown",
      "metadata": {
        "id": "bm9lonfzFehZ"
      },
      "source": [
        "**Instructions** ❗️❗️\n",
        "\n",
        "Use the any sorting algoritms"
      ]
    },
    {
      "cell_type": "markdown",
      "metadata": {
        "id": "EJTlxhEdFehZ"
      },
      "source": [
        "1. Using any sorting algorithm, sort the **last 6 digits** of your student number in ascending order `(5 points)`\n",
        "\n",
        "    **Example:**\n",
        "\n",
        "    student_number = [2,0,2,2,6,2,5,1,3,4]\n",
        "\n",
        "    **Expected Output:**\n",
        "\n",
        "    print(student_number)\n",
        "\n",
        "    [2,0,2,2,1,2,3,4,5,6]\n"
      ]
    },
    {
      "cell_type": "code",
      "execution_count": 3860,
      "metadata": {
        "id": "MkZKfveOFehZ"
      },
      "outputs": [
        {
          "name": "stdout",
          "output_type": "stream",
          "text": [
            "[2, 0, 2, 2, 0, 1, 2, 3, 6, 7]\n"
          ]
        }
      ],
      "source": [
        "# put your answer here\n",
        "def countingSort(array):\n",
        "    size = len(array)\n",
        "    output = [0] * size\n",
        "\n",
        "    # Initialize count array\n",
        "    count = [0] * 10\n",
        "\n",
        "    # Store the count of each elements in count array\n",
        "    for i in range(0, size):\n",
        "        count[array[i]] += 1\n",
        "\n",
        "    # Store the cummulative count\n",
        "    for i in range(1, 10):\n",
        "        count[i] += count[i - 1]\n",
        "\n",
        "    # Find the index of each element of the original array in count array\n",
        "    # place the elements in output array\n",
        "    i = size - 1\n",
        "    while i >= 0:\n",
        "        output[count[array[i]] - 1] = array[i]\n",
        "        count[array[i]] -= 1\n",
        "        i -= 1\n",
        "\n",
        "    # Copy the sorted elements into original array\n",
        "    for i in range(0, size):\n",
        "        array[i] = output[i]\n",
        "\n",
        "student_number = [2,0,2,2,1,0,7,6,3,2]\n",
        "temp = []\n",
        "\n",
        "#Copy first 4 numbers in temp array\n",
        "index = 0\n",
        "size = len(student_number) - 6\n",
        "\n",
        "while (index < size):\n",
        "    temp.append(student_number[index])\n",
        "    index += 1\n",
        "\n",
        "#Remove first 4 numbers in temp array\n",
        "index = 0\n",
        "\n",
        "while (index < size):\n",
        "    student_number.pop(0)\n",
        "    index += 1\n",
        "\n",
        "#Sort\n",
        "countingSort(student_number)\n",
        "\n",
        "#Concatenate temp array and student_number array\n",
        "student_number = temp + student_number\n",
        "\n",
        "print(student_number)"
      ]
    },
    {
      "cell_type": "markdown",
      "metadata": {
        "id": "sC2JZRZMFehZ"
      },
      "source": [
        "2. Using your student_number, separately sort the even numbers in **increasing order** and the odd numbers in **decreasing order** `(15 points)`\n",
        "\n",
        "    **Example:**\n",
        "\n",
        "    student_number = [2,0,2,2,1,2,3,4,5,6]\n",
        "\n",
        "    **Expected Output:**\n",
        "\n",
        "    print(student_number)\n",
        "\n",
        "    [0,2,2,2,2,4,6,5,3,1]"
      ]
    },
    {
      "cell_type": "code",
      "execution_count": 3861,
      "metadata": {
        "id": "hWOh_ohcFehZ"
      },
      "outputs": [
        {
          "name": "stdout",
          "output_type": "stream",
          "text": [
            "[0, 0, 2, 2, 2, 2, 6, 7, 3, 1]\n"
          ]
        }
      ],
      "source": [
        "# put your answer here\n",
        "def bubbleSort(array):\n",
        "  # loop to access each array element\n",
        "  for i in range(len(array)):\n",
        "\n",
        "    # loop to compare array elements\n",
        "    for j in range(0, len(array) - i - 1):\n",
        "\n",
        "      # compare two adjacent elements\n",
        "      # change > to < to sort in descending order\n",
        "      if array[j] > array[j + 1]:\n",
        "\n",
        "        # swapping elements if elements\n",
        "        # are not in the intended order\n",
        "        temp = array[j]\n",
        "        array[j] = array[j+1]\n",
        "        array[j+1] = temp\n",
        "\n",
        "def reverseBubbleSort(array):\n",
        "  # loop to access each array element\n",
        "  for i in range(len(array)):\n",
        "\n",
        "    # loop to compare array elements\n",
        "    for j in range(0, len(array) - i - 1):\n",
        "\n",
        "      # compare two adjacent elements\n",
        "      # change > to < to sort in descending order\n",
        "      if array[j] < array[j + 1]:\n",
        "\n",
        "        # swapping elements if elements\n",
        "        # are not in the intended order\n",
        "        temp = array[j]\n",
        "        array[j] = array[j+1]\n",
        "        array[j+1] = temp\n",
        "\n",
        "student_number = [2,0,2,2,1,0,7,6,3,2]\n",
        "odd_array = []\n",
        "even_array = []\n",
        "\n",
        "for i in student_number:\n",
        "    if (i % 2 == 0):\n",
        "        even_array.append(i)\n",
        "    if (i % 2 == 1):\n",
        "        odd_array.append(i)\n",
        "\n",
        "bubbleSort(even_array)\n",
        "reverseBubbleSort(odd_array)\n",
        "\n",
        "while (len(student_number) != 0):\n",
        "  student_number.pop(0)\n",
        "\n",
        "student_number = even_array + odd_array\n",
        "\n",
        "print(student_number)"
      ]
    }
  ],
  "metadata": {
    "colab": {
      "include_colab_link": true,
      "provenance": []
    },
    "kernelspec": {
      "display_name": "Python 3",
      "language": "python",
      "name": "python3"
    },
    "language_info": {
      "codemirror_mode": {
        "name": "ipython",
        "version": 3
      },
      "file_extension": ".py",
      "mimetype": "text/x-python",
      "name": "python",
      "nbconvert_exporter": "python",
      "pygments_lexer": "ipython3",
      "version": "3.11.4"
    },
    "orig_nbformat": 4
  },
  "nbformat": 4,
  "nbformat_minor": 0
}
